{
 "cells": [
  {
   "cell_type": "code",
   "execution_count": 4,
   "metadata": {},
   "outputs": [
    {
     "data": {
      "text/plain": [
       "['/vol/medic02/users/sv407/my/ml/newdhcp/dhcp_fetch_test2/pngs_as_slices/merged/train/../val/sub-CC00196XX16_ses-66100_t2_t2s_concat_0011.png',\n",
       " '/vol/medic02/users/sv407/my/ml/newdhcp/dhcp_fetch_test2/pngs_as_slices/merged/train/../val/sub-CC00221XX07_ses-75000_t2_t2s_concat_0008.png',\n",
       " '/vol/medic02/users/sv407/my/ml/newdhcp/dhcp_fetch_test2/pngs_as_slices/merged/train/../val/sub-CC00309BN12_ses-99400_t2_t2s_concat_0042.png',\n",
       " '/vol/medic02/users/sv407/my/ml/newdhcp/dhcp_fetch_test2/pngs_as_slices/merged/train/../val/sub-CC00310XX05_ses-99500_t2_t2s_concat_0041.png',\n",
       " '/vol/medic02/users/sv407/my/ml/newdhcp/dhcp_fetch_test2/pngs_as_slices/merged/train/../val/sub-CC00117XX10_ses-38200_t2_t2s_concat_0024.png',\n",
       " '/vol/medic02/users/sv407/my/ml/newdhcp/dhcp_fetch_test2/pngs_as_slices/merged/train/../val/sub-CC00216AN10_ses-73100_t2_t2s_concat_0036.png',\n",
       " '/vol/medic02/users/sv407/my/ml/newdhcp/dhcp_fetch_test2/pngs_as_slices/merged/train/../val/sub-CC00057XX08_ses-11002_t2_t2s_concat_0015.png',\n",
       " '/vol/medic02/users/sv407/my/ml/newdhcp/dhcp_fetch_test2/pngs_as_slices/merged/train/../val/sub-CC00129AN14_ses-43500_t2_t2s_concat_0026.png',\n",
       " '/vol/medic02/users/sv407/my/ml/newdhcp/dhcp_fetch_test2/pngs_as_slices/merged/train/../val/sub-CC00152AN04_ses-49200_t2_t2s_concat_0014.png',\n",
       " '/vol/medic02/users/sv407/my/ml/newdhcp/dhcp_fetch_test2/pngs_as_slices/merged/train/../val/sub-CC00163XX07_ses-53701_t2_t2s_concat_0039.png',\n",
       " '/vol/medic02/users/sv407/my/ml/newdhcp/dhcp_fetch_test2/pngs_as_slices/merged/train/../val/sub-CC00155XX07_ses-51300_t2_t2s_concat_0033.png',\n",
       " '/vol/medic02/users/sv407/my/ml/newdhcp/dhcp_fetch_test2/pngs_as_slices/merged/train/../val/sub-CC00310XX05_ses-99500_t2_t2s_concat_0016.png',\n",
       " '/vol/medic02/users/sv407/my/ml/newdhcp/dhcp_fetch_test2/pngs_as_slices/merged/train/../val/sub-CC00245BN15_ses-82600_t2_t2s_concat_0021.png',\n",
       " '/vol/medic02/users/sv407/my/ml/newdhcp/dhcp_fetch_test2/pngs_as_slices/merged/train/../val/sub-CC00188XX16_ses-61800_t2_t2s_concat_0033.png',\n",
       " '/vol/medic02/users/sv407/my/ml/newdhcp/dhcp_fetch_test2/pngs_as_slices/merged/train/../val/sub-CC00284AN13_ses-90701_t2_t2s_concat_0042.png',\n",
       " '/vol/medic02/users/sv407/my/ml/newdhcp/dhcp_fetch_test2/pngs_as_slices/merged/train/../val/sub-CC00281AN10_ses-90400_t2_t2s_concat_0006.png',\n",
       " '/vol/medic02/users/sv407/my/ml/newdhcp/dhcp_fetch_test2/pngs_as_slices/merged/train/../val/sub-CC00258XX11_ses-84900_t2_t2s_concat_0037.png',\n",
       " '/vol/medic02/users/sv407/my/ml/newdhcp/dhcp_fetch_test2/pngs_as_slices/merged/train/../val/sub-CC00310XX05_ses-99500_t2_t2s_concat_0010.png',\n",
       " '/vol/medic02/users/sv407/my/ml/newdhcp/dhcp_fetch_test2/pngs_as_slices/merged/train/../val/sub-CC00115XX08_ses-37801_t2_t2s_concat_0020.png',\n",
       " '/vol/medic02/users/sv407/my/ml/newdhcp/dhcp_fetch_test2/pngs_as_slices/merged/train/../val/sub-CC00268XX13_ses-87800_t2_t2s_concat_0036.png',\n",
       " '/vol/medic02/users/sv407/my/ml/newdhcp/dhcp_fetch_test2/pngs_as_slices/merged/train/../val/sub-CC00289XX18_ses-119700_t2_t2s_concat_0017.png',\n",
       " '/vol/medic02/users/sv407/my/ml/newdhcp/dhcp_fetch_test2/pngs_as_slices/merged/train/../val/sub-CC00289XX18_ses-119700_t2_t2s_concat_0033.png',\n",
       " '/vol/medic02/users/sv407/my/ml/newdhcp/dhcp_fetch_test2/pngs_as_slices/merged/train/../val/sub-CC00098BN17_ses-33900_t2_t2s_concat_0040.png',\n",
       " '/vol/medic02/users/sv407/my/ml/newdhcp/dhcp_fetch_test2/pngs_as_slices/merged/train/../val/sub-CC00057XX08_ses-11002_t2_t2s_concat_0020.png',\n",
       " '/vol/medic02/users/sv407/my/ml/newdhcp/dhcp_fetch_test2/pngs_as_slices/merged/train/../val/sub-CC00309BN12_ses-99400_t2_t2s_concat_0018.png',\n",
       " '/vol/medic02/users/sv407/my/ml/newdhcp/dhcp_fetch_test2/pngs_as_slices/merged/train/../val/sub-CC00168XX12_ses-55700_t2_t2s_concat_0022.png',\n",
       " '/vol/medic02/users/sv407/my/ml/newdhcp/dhcp_fetch_test2/pngs_as_slices/merged/train/../val/sub-CC00233XX11_ses-77800_t2_t2s_concat_0033.png']"
      ]
     },
     "execution_count": 4,
     "metadata": {},
     "output_type": "execute_result"
    }
   ],
   "source": [
    "import shutil \n",
    "from glob import glob\n",
    "import random\n",
    "\n",
    "opt_input_dir = 'FULLPATH PLEASE\n",
    "ext = '.png'\n",
    "num_to_move = 27\n",
    "destination = '/../val/'\n",
    "\n",
    "#fetch all files \n",
    "files = glob('%s/*%s' % (opt_input_dir, ext))\n",
    "\n",
    "#select random train files \n",
    "index = random.sample(range(0,len(files)), num_to_move)\n",
    "to_send = [files[i] for i in index]\n",
    "\n",
    "#move files to train dir \n",
    "[shutil.move(f, opt_input_dir+destination) for f in to_send]\n"
   ]
  },
  {
   "cell_type": "code",
   "execution_count": null,
   "metadata": {},
   "outputs": [],
   "source": []
  }
 ],
 "metadata": {
  "kernelspec": {
   "display_name": "Python 3",
   "language": "python",
   "name": "python3"
  },
  "language_info": {
   "codemirror_mode": {
    "name": "ipython",
    "version": 3
   },
   "file_extension": ".py",
   "mimetype": "text/x-python",
   "name": "python",
   "nbconvert_exporter": "python",
   "pygments_lexer": "ipython3",
   "version": "3.6.8"
  }
 },
 "nbformat": 4,
 "nbformat_minor": 2
}
